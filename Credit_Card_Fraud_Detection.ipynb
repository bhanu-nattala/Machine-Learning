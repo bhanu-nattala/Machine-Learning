{
  "nbformat": 4,
  "nbformat_minor": 0,
  "metadata": {
    "colab": {
      "name": "Credit Card Fraud Detection.ipynb",
      "provenance": [],
      "authorship_tag": "ABX9TyPZP0+0EhuD29iSGitFOvEF",
      "include_colab_link": true
    },
    "kernelspec": {
      "name": "python3",
      "display_name": "Python 3"
    },
    "language_info": {
      "name": "python"
    }
  },
  "cells": [
    {
      "cell_type": "markdown",
      "metadata": {
        "id": "view-in-github",
        "colab_type": "text"
      },
      "source": [
        "<a href=\"https://colab.research.google.com/github/bhanu-nattala/Machine-Learning/blob/master/Credit_Card_Fraud_Detection.ipynb\" target=\"_parent\"><img src=\"https://colab.research.google.com/assets/colab-badge.svg\" alt=\"Open In Colab\"/></a>"
      ]
    },
    {
      "cell_type": "code",
      "metadata": {
        "id": "RCLno1x4dWvN"
      },
      "source": [
        "%matplotlib inline\n",
        "import scipy.stats as stats\n",
        "import numpy as np\n",
        "import pandas as pd"
      ],
      "execution_count": null,
      "outputs": []
    },
    {
      "cell_type": "code",
      "metadata": {
        "id": "T1Gxvfo5drA6"
      },
      "source": [
        "data = pd.read_csv('creditcard.csv')"
      ],
      "execution_count": null,
      "outputs": []
    },
    {
      "cell_type": "code",
      "metadata": {
        "colab": {
          "base_uri": "https://localhost:8080/"
        },
        "id": "q0kPmQeFdrLk",
        "outputId": "b89427d3-e1d3-4117-daad-5776b6a98638"
      },
      "source": [
        "data.info()"
      ],
      "execution_count": null,
      "outputs": [
        {
          "output_type": "stream",
          "text": [
            "<class 'pandas.core.frame.DataFrame'>\n",
            "RangeIndex: 284807 entries, 0 to 284806\n",
            "Data columns (total 31 columns):\n",
            " #   Column  Non-Null Count   Dtype  \n",
            "---  ------  --------------   -----  \n",
            " 0   Time    284807 non-null  float64\n",
            " 1   V1      284807 non-null  float64\n",
            " 2   V2      284807 non-null  float64\n",
            " 3   V3      284807 non-null  float64\n",
            " 4   V4      284807 non-null  float64\n",
            " 5   V5      284807 non-null  float64\n",
            " 6   V6      284807 non-null  float64\n",
            " 7   V7      284807 non-null  float64\n",
            " 8   V8      284807 non-null  float64\n",
            " 9   V9      284807 non-null  float64\n",
            " 10  V10     284807 non-null  float64\n",
            " 11  V11     284807 non-null  float64\n",
            " 12  V12     284807 non-null  float64\n",
            " 13  V13     284807 non-null  float64\n",
            " 14  V14     284807 non-null  float64\n",
            " 15  V15     284807 non-null  float64\n",
            " 16  V16     284807 non-null  float64\n",
            " 17  V17     284807 non-null  float64\n",
            " 18  V18     284807 non-null  float64\n",
            " 19  V19     284807 non-null  float64\n",
            " 20  V20     284807 non-null  float64\n",
            " 21  V21     284807 non-null  float64\n",
            " 22  V22     284807 non-null  float64\n",
            " 23  V23     284807 non-null  float64\n",
            " 24  V24     284807 non-null  float64\n",
            " 25  V25     284807 non-null  float64\n",
            " 26  V26     284807 non-null  float64\n",
            " 27  V27     284807 non-null  float64\n",
            " 28  V28     284807 non-null  float64\n",
            " 29  Amount  284807 non-null  float64\n",
            " 30  Class   284807 non-null  int64  \n",
            "dtypes: float64(30), int64(1)\n",
            "memory usage: 67.4 MB\n"
          ],
          "name": "stdout"
        }
      ]
    },
    {
      "cell_type": "code",
      "metadata": {
        "colab": {
          "base_uri": "https://localhost:8080/",
          "height": 222
        },
        "id": "GqRFPFvOdzmp",
        "outputId": "3a5af450-c167-4103-c1a7-b8cd94621dc1"
      },
      "source": [
        "data.head()"
      ],
      "execution_count": null,
      "outputs": [
        {
          "output_type": "execute_result",
          "data": {
            "text/html": [
              "<div>\n",
              "<style scoped>\n",
              "    .dataframe tbody tr th:only-of-type {\n",
              "        vertical-align: middle;\n",
              "    }\n",
              "\n",
              "    .dataframe tbody tr th {\n",
              "        vertical-align: top;\n",
              "    }\n",
              "\n",
              "    .dataframe thead th {\n",
              "        text-align: right;\n",
              "    }\n",
              "</style>\n",
              "<table border=\"1\" class=\"dataframe\">\n",
              "  <thead>\n",
              "    <tr style=\"text-align: right;\">\n",
              "      <th></th>\n",
              "      <th>Time</th>\n",
              "      <th>V1</th>\n",
              "      <th>V2</th>\n",
              "      <th>V3</th>\n",
              "      <th>V4</th>\n",
              "      <th>V5</th>\n",
              "      <th>V6</th>\n",
              "      <th>V7</th>\n",
              "      <th>V8</th>\n",
              "      <th>V9</th>\n",
              "      <th>V10</th>\n",
              "      <th>V11</th>\n",
              "      <th>V12</th>\n",
              "      <th>V13</th>\n",
              "      <th>V14</th>\n",
              "      <th>V15</th>\n",
              "      <th>V16</th>\n",
              "      <th>V17</th>\n",
              "      <th>V18</th>\n",
              "      <th>V19</th>\n",
              "      <th>V20</th>\n",
              "      <th>V21</th>\n",
              "      <th>V22</th>\n",
              "      <th>V23</th>\n",
              "      <th>V24</th>\n",
              "      <th>V25</th>\n",
              "      <th>V26</th>\n",
              "      <th>V27</th>\n",
              "      <th>V28</th>\n",
              "      <th>Amount</th>\n",
              "      <th>Class</th>\n",
              "    </tr>\n",
              "  </thead>\n",
              "  <tbody>\n",
              "    <tr>\n",
              "      <th>0</th>\n",
              "      <td>0.0</td>\n",
              "      <td>-1.359807</td>\n",
              "      <td>-0.072781</td>\n",
              "      <td>2.536347</td>\n",
              "      <td>1.378155</td>\n",
              "      <td>-0.338321</td>\n",
              "      <td>0.462388</td>\n",
              "      <td>0.239599</td>\n",
              "      <td>0.098698</td>\n",
              "      <td>0.363787</td>\n",
              "      <td>0.090794</td>\n",
              "      <td>-0.551600</td>\n",
              "      <td>-0.617801</td>\n",
              "      <td>-0.991390</td>\n",
              "      <td>-0.311169</td>\n",
              "      <td>1.468177</td>\n",
              "      <td>-0.470401</td>\n",
              "      <td>0.207971</td>\n",
              "      <td>0.025791</td>\n",
              "      <td>0.403993</td>\n",
              "      <td>0.251412</td>\n",
              "      <td>-0.018307</td>\n",
              "      <td>0.277838</td>\n",
              "      <td>-0.110474</td>\n",
              "      <td>0.066928</td>\n",
              "      <td>0.128539</td>\n",
              "      <td>-0.189115</td>\n",
              "      <td>0.133558</td>\n",
              "      <td>-0.021053</td>\n",
              "      <td>149.62</td>\n",
              "      <td>0</td>\n",
              "    </tr>\n",
              "    <tr>\n",
              "      <th>1</th>\n",
              "      <td>0.0</td>\n",
              "      <td>1.191857</td>\n",
              "      <td>0.266151</td>\n",
              "      <td>0.166480</td>\n",
              "      <td>0.448154</td>\n",
              "      <td>0.060018</td>\n",
              "      <td>-0.082361</td>\n",
              "      <td>-0.078803</td>\n",
              "      <td>0.085102</td>\n",
              "      <td>-0.255425</td>\n",
              "      <td>-0.166974</td>\n",
              "      <td>1.612727</td>\n",
              "      <td>1.065235</td>\n",
              "      <td>0.489095</td>\n",
              "      <td>-0.143772</td>\n",
              "      <td>0.635558</td>\n",
              "      <td>0.463917</td>\n",
              "      <td>-0.114805</td>\n",
              "      <td>-0.183361</td>\n",
              "      <td>-0.145783</td>\n",
              "      <td>-0.069083</td>\n",
              "      <td>-0.225775</td>\n",
              "      <td>-0.638672</td>\n",
              "      <td>0.101288</td>\n",
              "      <td>-0.339846</td>\n",
              "      <td>0.167170</td>\n",
              "      <td>0.125895</td>\n",
              "      <td>-0.008983</td>\n",
              "      <td>0.014724</td>\n",
              "      <td>2.69</td>\n",
              "      <td>0</td>\n",
              "    </tr>\n",
              "    <tr>\n",
              "      <th>2</th>\n",
              "      <td>1.0</td>\n",
              "      <td>-1.358354</td>\n",
              "      <td>-1.340163</td>\n",
              "      <td>1.773209</td>\n",
              "      <td>0.379780</td>\n",
              "      <td>-0.503198</td>\n",
              "      <td>1.800499</td>\n",
              "      <td>0.791461</td>\n",
              "      <td>0.247676</td>\n",
              "      <td>-1.514654</td>\n",
              "      <td>0.207643</td>\n",
              "      <td>0.624501</td>\n",
              "      <td>0.066084</td>\n",
              "      <td>0.717293</td>\n",
              "      <td>-0.165946</td>\n",
              "      <td>2.345865</td>\n",
              "      <td>-2.890083</td>\n",
              "      <td>1.109969</td>\n",
              "      <td>-0.121359</td>\n",
              "      <td>-2.261857</td>\n",
              "      <td>0.524980</td>\n",
              "      <td>0.247998</td>\n",
              "      <td>0.771679</td>\n",
              "      <td>0.909412</td>\n",
              "      <td>-0.689281</td>\n",
              "      <td>-0.327642</td>\n",
              "      <td>-0.139097</td>\n",
              "      <td>-0.055353</td>\n",
              "      <td>-0.059752</td>\n",
              "      <td>378.66</td>\n",
              "      <td>0</td>\n",
              "    </tr>\n",
              "    <tr>\n",
              "      <th>3</th>\n",
              "      <td>1.0</td>\n",
              "      <td>-0.966272</td>\n",
              "      <td>-0.185226</td>\n",
              "      <td>1.792993</td>\n",
              "      <td>-0.863291</td>\n",
              "      <td>-0.010309</td>\n",
              "      <td>1.247203</td>\n",
              "      <td>0.237609</td>\n",
              "      <td>0.377436</td>\n",
              "      <td>-1.387024</td>\n",
              "      <td>-0.054952</td>\n",
              "      <td>-0.226487</td>\n",
              "      <td>0.178228</td>\n",
              "      <td>0.507757</td>\n",
              "      <td>-0.287924</td>\n",
              "      <td>-0.631418</td>\n",
              "      <td>-1.059647</td>\n",
              "      <td>-0.684093</td>\n",
              "      <td>1.965775</td>\n",
              "      <td>-1.232622</td>\n",
              "      <td>-0.208038</td>\n",
              "      <td>-0.108300</td>\n",
              "      <td>0.005274</td>\n",
              "      <td>-0.190321</td>\n",
              "      <td>-1.175575</td>\n",
              "      <td>0.647376</td>\n",
              "      <td>-0.221929</td>\n",
              "      <td>0.062723</td>\n",
              "      <td>0.061458</td>\n",
              "      <td>123.50</td>\n",
              "      <td>0</td>\n",
              "    </tr>\n",
              "    <tr>\n",
              "      <th>4</th>\n",
              "      <td>2.0</td>\n",
              "      <td>-1.158233</td>\n",
              "      <td>0.877737</td>\n",
              "      <td>1.548718</td>\n",
              "      <td>0.403034</td>\n",
              "      <td>-0.407193</td>\n",
              "      <td>0.095921</td>\n",
              "      <td>0.592941</td>\n",
              "      <td>-0.270533</td>\n",
              "      <td>0.817739</td>\n",
              "      <td>0.753074</td>\n",
              "      <td>-0.822843</td>\n",
              "      <td>0.538196</td>\n",
              "      <td>1.345852</td>\n",
              "      <td>-1.119670</td>\n",
              "      <td>0.175121</td>\n",
              "      <td>-0.451449</td>\n",
              "      <td>-0.237033</td>\n",
              "      <td>-0.038195</td>\n",
              "      <td>0.803487</td>\n",
              "      <td>0.408542</td>\n",
              "      <td>-0.009431</td>\n",
              "      <td>0.798278</td>\n",
              "      <td>-0.137458</td>\n",
              "      <td>0.141267</td>\n",
              "      <td>-0.206010</td>\n",
              "      <td>0.502292</td>\n",
              "      <td>0.219422</td>\n",
              "      <td>0.215153</td>\n",
              "      <td>69.99</td>\n",
              "      <td>0</td>\n",
              "    </tr>\n",
              "  </tbody>\n",
              "</table>\n",
              "</div>"
            ],
            "text/plain": [
              "   Time        V1        V2        V3  ...       V27       V28  Amount  Class\n",
              "0   0.0 -1.359807 -0.072781  2.536347  ...  0.133558 -0.021053  149.62      0\n",
              "1   0.0  1.191857  0.266151  0.166480  ... -0.008983  0.014724    2.69      0\n",
              "2   1.0 -1.358354 -1.340163  1.773209  ... -0.055353 -0.059752  378.66      0\n",
              "3   1.0 -0.966272 -0.185226  1.792993  ...  0.062723  0.061458  123.50      0\n",
              "4   2.0 -1.158233  0.877737  1.548718  ...  0.219422  0.215153   69.99      0\n",
              "\n",
              "[5 rows x 31 columns]"
            ]
          },
          "metadata": {
            "tags": []
          },
          "execution_count": 4
        }
      ]
    },
    {
      "cell_type": "code",
      "metadata": {
        "colab": {
          "base_uri": "https://localhost:8080/"
        },
        "id": "dsSIG5WQdzxs",
        "outputId": "0587e9d9-0369-41be-88aa-6299e09ef4d8"
      },
      "source": [
        "print(data.shape)"
      ],
      "execution_count": null,
      "outputs": [
        {
          "output_type": "stream",
          "text": [
            "(284807, 31)\n"
          ],
          "name": "stdout"
        }
      ]
    },
    {
      "cell_type": "code",
      "metadata": {
        "colab": {
          "base_uri": "https://localhost:8080/"
        },
        "id": "Z-GgSEz6d9VX",
        "outputId": "9be37122-db77-49ad-cad0-65c7915ba9fd"
      },
      "source": [
        "data.isnull().values.any()"
      ],
      "execution_count": null,
      "outputs": [
        {
          "output_type": "execute_result",
          "data": {
            "text/plain": [
              "False"
            ]
          },
          "metadata": {
            "tags": []
          },
          "execution_count": 6
        }
      ]
    },
    {
      "cell_type": "code",
      "metadata": {
        "id": "7xVvV0Egd9f0"
      },
      "source": [
        "fraud = data[data['Class'] == 1] \n",
        "valid = data[data['Class'] == 0]"
      ],
      "execution_count": null,
      "outputs": []
    },
    {
      "cell_type": "code",
      "metadata": {
        "colab": {
          "base_uri": "https://localhost:8080/"
        },
        "id": "EQHLpEPFeDGu",
        "outputId": "dc1f3858-fc9c-45cc-89c4-d644e277814e"
      },
      "source": [
        "print(fraud.shape,valid.shape)"
      ],
      "execution_count": null,
      "outputs": [
        {
          "output_type": "stream",
          "text": [
            "(492, 31) (284315, 31)\n"
          ],
          "name": "stdout"
        }
      ]
    },
    {
      "cell_type": "code",
      "metadata": {
        "colab": {
          "base_uri": "https://localhost:8080/"
        },
        "id": "iZbX0s-qeDQu",
        "outputId": "ebf45ee6-282c-4850-90ea-bd67fd44a8a2"
      },
      "source": [
        "# dividing the X and the Y from the dataset \n",
        "#X = data.drop(['Class'], axis = 1)\n",
        "X = data[['Time','Amount']]\n",
        "Y = data[\"Class\"] \n",
        "print(X.shape) \n",
        "print(Y.shape) \n",
        "# getting just the values for the sake of processing  \n",
        "# (its a numpy array with no columns) \n",
        "xData = X.values \n",
        "yData = Y.values"
      ],
      "execution_count": null,
      "outputs": [
        {
          "output_type": "stream",
          "text": [
            "(284807, 2)\n",
            "(284807,)\n"
          ],
          "name": "stdout"
        }
      ]
    },
    {
      "cell_type": "code",
      "metadata": {
        "id": "eIKJs2mieNTB"
      },
      "source": [
        "# Using Skicit-learn to split data into training and testing sets \n",
        "from sklearn.model_selection import train_test_split \n",
        "# Split the data into training and testing sets \n",
        "xTrain, xTest, yTrain, yTest = train_test_split( \n",
        "        xData, yData, test_size = 0.2, random_state = 40)"
      ],
      "execution_count": null,
      "outputs": []
    },
    {
      "cell_type": "code",
      "metadata": {
        "id": "lN3bohDAeNe-"
      },
      "source": [
        "from sklearn.ensemble import RandomForestClassifier \n",
        "# random forest model creation \n",
        "rfc = RandomForestClassifier() \n",
        "rfc.fit(xTrain, yTrain) \n",
        "# predictions \n",
        "yPred = rfc.predict(xTest)"
      ],
      "execution_count": null,
      "outputs": []
    },
    {
      "cell_type": "code",
      "metadata": {
        "colab": {
          "base_uri": "https://localhost:8080/"
        },
        "id": "mjOHTZ9aeT6M",
        "outputId": "236f3350-6fcb-4e16-d863-4033a1e6ff8a"
      },
      "source": [
        "from sklearn.metrics import accuracy_score  \n",
        "acc = accuracy_score(yTest, yPred) \n",
        "print(\"The accuracy of Render forest is {}\".format(acc))"
      ],
      "execution_count": null,
      "outputs": [
        {
          "output_type": "stream",
          "text": [
            "The accuracy of Render forest is 0.9980337769039008\n"
          ],
          "name": "stdout"
        }
      ]
    },
    {
      "cell_type": "code",
      "metadata": {
        "colab": {
          "base_uri": "https://localhost:8080/"
        },
        "id": "LSwpuum1eT9j",
        "outputId": "d6a9eea5-84eb-4482-f821-4b68a1b377a6"
      },
      "source": [
        "from sklearn.naive_bayes import GaussianNB \n",
        "gnb = GaussianNB()\n",
        "gnb.fit(xTrain, yTrain)\n",
        "yPred=gnb.predict(xTest)\n",
        "acc = accuracy_score(yTest, yPred) \n",
        "print(\"The accuracy of Naive Bayes is {}\".format(acc))"
      ],
      "execution_count": null,
      "outputs": [
        {
          "output_type": "stream",
          "text": [
            "The accuracy of Naive Bayes is 0.9982971103542713\n"
          ],
          "name": "stdout"
        }
      ]
    },
    {
      "cell_type": "code",
      "metadata": {
        "colab": {
          "base_uri": "https://localhost:8080/"
        },
        "id": "HAtDvZfAefMS",
        "outputId": "08821fa0-3678-4ba4-a3cc-72d3d312b9e9"
      },
      "source": [
        "from sklearn.dummy import DummyClassifier\n",
        "dummy = DummyClassifier()\n",
        "dummy.fit(xTrain, yTrain)\n",
        "yPred=dummy.predict(xTest)\n",
        "acc = accuracy_score(yTest, yPred) \n",
        "print(\"The accuracy of Dummy Classifier is {}\".format(acc))"
      ],
      "execution_count": null,
      "outputs": [
        {
          "output_type": "stream",
          "text": [
            "The accuracy of Dummy Classifier is 0.9966468873986166\n"
          ],
          "name": "stdout"
        },
        {
          "output_type": "stream",
          "text": [
            "/usr/local/lib/python3.7/dist-packages/sklearn/dummy.py:132: FutureWarning: The default value of strategy will change from stratified to prior in 0.24.\n",
            "  \"stratified to prior in 0.24.\", FutureWarning)\n"
          ],
          "name": "stderr"
        }
      ]
    },
    {
      "cell_type": "code",
      "metadata": {
        "colab": {
          "base_uri": "https://localhost:8080/"
        },
        "id": "83tWAfaqefYj",
        "outputId": "5188d25a-d144-419f-b865-c7f6ce6558f3"
      },
      "source": [
        "from sklearn.svm import SVC\n",
        "svm = SVC()\n",
        "svm.fit(xTrain, yTrain)\n",
        "yPred=svm.predict(xTest)\n",
        "acc = accuracy_score(yTest, yPred) \n",
        "print(\"The accuracy of SVM is {}\".format(acc))"
      ],
      "execution_count": null,
      "outputs": [
        {
          "output_type": "stream",
          "text": [
            "The accuracy of SVM is 0.9982971103542713\n"
          ],
          "name": "stdout"
        }
      ]
    },
    {
      "cell_type": "code",
      "metadata": {
        "colab": {
          "base_uri": "https://localhost:8080/"
        },
        "id": "cMsI5IAYejWt",
        "outputId": "59841882-cefa-4c06-9d41-b57c0db71e7c"
      },
      "source": [
        "print(fraud.shape)"
      ],
      "execution_count": null,
      "outputs": [
        {
          "output_type": "stream",
          "text": [
            "(492, 31)\n"
          ],
          "name": "stdout"
        }
      ]
    },
    {
      "cell_type": "code",
      "metadata": {
        "colab": {
          "base_uri": "https://localhost:8080/",
          "height": 222
        },
        "id": "zDOzCverejkq",
        "outputId": "a162fde9-30e7-4684-848a-8562ae068f3b"
      },
      "source": [
        "# Lets shuffle the data before creating the subsamples\n",
        "\n",
        "data1 = data.sample(frac=1)\n",
        "\n",
        "# amount of fraud classes 492 rows.\n",
        "fraud_data1 = data1.loc[data1['Class'] == 1]\n",
        "non_fraud_data1 = data1.loc[data1['Class'] == 0][:492]\n",
        "\n",
        "normal_distributed_data1 = pd.concat([fraud_data1, non_fraud_data1])\n",
        "\n",
        "# Shuffle dataframe rows\n",
        "new_data1 = normal_distributed_data1.sample(frac=1, random_state=42)\n",
        "\n",
        "new_data1.head()"
      ],
      "execution_count": null,
      "outputs": [
        {
          "output_type": "execute_result",
          "data": {
            "text/html": [
              "<div>\n",
              "<style scoped>\n",
              "    .dataframe tbody tr th:only-of-type {\n",
              "        vertical-align: middle;\n",
              "    }\n",
              "\n",
              "    .dataframe tbody tr th {\n",
              "        vertical-align: top;\n",
              "    }\n",
              "\n",
              "    .dataframe thead th {\n",
              "        text-align: right;\n",
              "    }\n",
              "</style>\n",
              "<table border=\"1\" class=\"dataframe\">\n",
              "  <thead>\n",
              "    <tr style=\"text-align: right;\">\n",
              "      <th></th>\n",
              "      <th>Time</th>\n",
              "      <th>V1</th>\n",
              "      <th>V2</th>\n",
              "      <th>V3</th>\n",
              "      <th>V4</th>\n",
              "      <th>V5</th>\n",
              "      <th>V6</th>\n",
              "      <th>V7</th>\n",
              "      <th>V8</th>\n",
              "      <th>V9</th>\n",
              "      <th>V10</th>\n",
              "      <th>V11</th>\n",
              "      <th>V12</th>\n",
              "      <th>V13</th>\n",
              "      <th>V14</th>\n",
              "      <th>V15</th>\n",
              "      <th>V16</th>\n",
              "      <th>V17</th>\n",
              "      <th>V18</th>\n",
              "      <th>V19</th>\n",
              "      <th>V20</th>\n",
              "      <th>V21</th>\n",
              "      <th>V22</th>\n",
              "      <th>V23</th>\n",
              "      <th>V24</th>\n",
              "      <th>V25</th>\n",
              "      <th>V26</th>\n",
              "      <th>V27</th>\n",
              "      <th>V28</th>\n",
              "      <th>Amount</th>\n",
              "      <th>Class</th>\n",
              "    </tr>\n",
              "  </thead>\n",
              "  <tbody>\n",
              "    <tr>\n",
              "      <th>184588</th>\n",
              "      <td>126301.0</td>\n",
              "      <td>-0.695209</td>\n",
              "      <td>0.370524</td>\n",
              "      <td>-0.088364</td>\n",
              "      <td>-1.093257</td>\n",
              "      <td>1.773392</td>\n",
              "      <td>-0.107895</td>\n",
              "      <td>1.450987</td>\n",
              "      <td>-0.718671</td>\n",
              "      <td>0.649021</td>\n",
              "      <td>1.148793</td>\n",
              "      <td>-0.001555</td>\n",
              "      <td>0.440511</td>\n",
              "      <td>0.729648</td>\n",
              "      <td>-0.734481</td>\n",
              "      <td>-0.883610</td>\n",
              "      <td>0.227202</td>\n",
              "      <td>-1.557084</td>\n",
              "      <td>-0.009163</td>\n",
              "      <td>0.750686</td>\n",
              "      <td>0.163932</td>\n",
              "      <td>-0.619943</td>\n",
              "      <td>-0.552759</td>\n",
              "      <td>0.239399</td>\n",
              "      <td>-1.379569</td>\n",
              "      <td>-0.172331</td>\n",
              "      <td>0.148458</td>\n",
              "      <td>0.019478</td>\n",
              "      <td>-0.589651</td>\n",
              "      <td>10.56</td>\n",
              "      <td>0</td>\n",
              "    </tr>\n",
              "    <tr>\n",
              "      <th>191267</th>\n",
              "      <td>129186.0</td>\n",
              "      <td>0.290155</td>\n",
              "      <td>0.049243</td>\n",
              "      <td>-0.740524</td>\n",
              "      <td>2.865463</td>\n",
              "      <td>1.395294</td>\n",
              "      <td>-0.535163</td>\n",
              "      <td>0.142543</td>\n",
              "      <td>-0.222770</td>\n",
              "      <td>-1.463691</td>\n",
              "      <td>1.713538</td>\n",
              "      <td>-1.127573</td>\n",
              "      <td>-0.708657</td>\n",
              "      <td>0.272186</td>\n",
              "      <td>0.274710</td>\n",
              "      <td>0.235192</td>\n",
              "      <td>-0.463553</td>\n",
              "      <td>0.472995</td>\n",
              "      <td>-0.447899</td>\n",
              "      <td>1.790924</td>\n",
              "      <td>0.247580</td>\n",
              "      <td>0.337349</td>\n",
              "      <td>1.018191</td>\n",
              "      <td>0.303550</td>\n",
              "      <td>0.833886</td>\n",
              "      <td>-1.222306</td>\n",
              "      <td>2.745261</td>\n",
              "      <td>-0.220402</td>\n",
              "      <td>0.168233</td>\n",
              "      <td>7.18</td>\n",
              "      <td>1</td>\n",
              "    </tr>\n",
              "    <tr>\n",
              "      <th>254539</th>\n",
              "      <td>156779.0</td>\n",
              "      <td>0.311782</td>\n",
              "      <td>0.661920</td>\n",
              "      <td>-0.103199</td>\n",
              "      <td>-0.712484</td>\n",
              "      <td>1.506534</td>\n",
              "      <td>-0.738647</td>\n",
              "      <td>1.874182</td>\n",
              "      <td>-1.015903</td>\n",
              "      <td>0.502722</td>\n",
              "      <td>0.134647</td>\n",
              "      <td>-0.921910</td>\n",
              "      <td>-0.186924</td>\n",
              "      <td>-0.257501</td>\n",
              "      <td>-0.379801</td>\n",
              "      <td>-0.605037</td>\n",
              "      <td>-0.982842</td>\n",
              "      <td>-0.603902</td>\n",
              "      <td>-0.545894</td>\n",
              "      <td>0.081064</td>\n",
              "      <td>-0.018290</td>\n",
              "      <td>-0.069576</td>\n",
              "      <td>0.357976</td>\n",
              "      <td>-0.308010</td>\n",
              "      <td>0.682468</td>\n",
              "      <td>0.077032</td>\n",
              "      <td>-0.434449</td>\n",
              "      <td>-0.768464</td>\n",
              "      <td>-0.666273</td>\n",
              "      <td>7.49</td>\n",
              "      <td>0</td>\n",
              "    </tr>\n",
              "    <tr>\n",
              "      <th>123201</th>\n",
              "      <td>76845.0</td>\n",
              "      <td>1.141572</td>\n",
              "      <td>1.291195</td>\n",
              "      <td>-1.432900</td>\n",
              "      <td>2.058202</td>\n",
              "      <td>0.940824</td>\n",
              "      <td>-0.958274</td>\n",
              "      <td>0.391154</td>\n",
              "      <td>-0.092519</td>\n",
              "      <td>-0.032829</td>\n",
              "      <td>-2.155303</td>\n",
              "      <td>1.080439</td>\n",
              "      <td>0.044415</td>\n",
              "      <td>0.441177</td>\n",
              "      <td>-5.053825</td>\n",
              "      <td>0.315185</td>\n",
              "      <td>0.821195</td>\n",
              "      <td>4.027366</td>\n",
              "      <td>1.077979</td>\n",
              "      <td>-1.107276</td>\n",
              "      <td>-0.005913</td>\n",
              "      <td>-0.366507</td>\n",
              "      <td>-0.714465</td>\n",
              "      <td>-0.143911</td>\n",
              "      <td>-0.305178</td>\n",
              "      <td>0.697514</td>\n",
              "      <td>-0.312545</td>\n",
              "      <td>0.106247</td>\n",
              "      <td>0.125060</td>\n",
              "      <td>1.00</td>\n",
              "      <td>1</td>\n",
              "    </tr>\n",
              "    <tr>\n",
              "      <th>58761</th>\n",
              "      <td>48533.0</td>\n",
              "      <td>1.243848</td>\n",
              "      <td>0.524526</td>\n",
              "      <td>-0.538884</td>\n",
              "      <td>1.209196</td>\n",
              "      <td>0.479538</td>\n",
              "      <td>-0.197429</td>\n",
              "      <td>0.049166</td>\n",
              "      <td>0.037792</td>\n",
              "      <td>0.128119</td>\n",
              "      <td>-0.552903</td>\n",
              "      <td>-0.668359</td>\n",
              "      <td>-0.818804</td>\n",
              "      <td>-0.883832</td>\n",
              "      <td>-0.994581</td>\n",
              "      <td>1.506849</td>\n",
              "      <td>0.624003</td>\n",
              "      <td>0.705794</td>\n",
              "      <td>0.524182</td>\n",
              "      <td>-0.731750</td>\n",
              "      <td>-0.171541</td>\n",
              "      <td>-0.051660</td>\n",
              "      <td>-0.084089</td>\n",
              "      <td>-0.192846</td>\n",
              "      <td>-0.917392</td>\n",
              "      <td>0.681953</td>\n",
              "      <td>-0.194419</td>\n",
              "      <td>0.045917</td>\n",
              "      <td>0.040136</td>\n",
              "      <td>1.00</td>\n",
              "      <td>1</td>\n",
              "    </tr>\n",
              "  </tbody>\n",
              "</table>\n",
              "</div>"
            ],
            "text/plain": [
              "            Time        V1        V2  ...       V28  Amount  Class\n",
              "184588  126301.0 -0.695209  0.370524  ... -0.589651   10.56      0\n",
              "191267  129186.0  0.290155  0.049243  ...  0.168233    7.18      1\n",
              "254539  156779.0  0.311782  0.661920  ... -0.666273    7.49      0\n",
              "123201   76845.0  1.141572  1.291195  ...  0.125060    1.00      1\n",
              "58761    48533.0  1.243848  0.524526  ...  0.040136    1.00      1\n",
              "\n",
              "[5 rows x 31 columns]"
            ]
          },
          "metadata": {
            "tags": []
          },
          "execution_count": 18
        }
      ]
    },
    {
      "cell_type": "code",
      "metadata": {
        "colab": {
          "base_uri": "https://localhost:8080/",
          "height": 420
        },
        "id": "cfOPFHKYets-",
        "outputId": "194c3f0c-1dda-43c4-bb9e-34ea32cba1c8"
      },
      "source": [
        "print('Distribution of the Classes in the subsample dataset')\n",
        "print(new_data1['Class'].value_counts()/len(new_data1))\n",
        "\n",
        "\n",
        "import seaborn as sns\n",
        "import matplotlib.pyplot as plt\n",
        "sns.countplot('Class', data=new_data1)\n",
        "plt.title('Equally Distributed Classes', fontsize=14)\n",
        "plt.show()"
      ],
      "execution_count": null,
      "outputs": [
        {
          "output_type": "stream",
          "text": [
            "Distribution of the Classes in the subsample dataset\n",
            "1    0.5\n",
            "0    0.5\n",
            "Name: Class, dtype: float64\n"
          ],
          "name": "stdout"
        },
        {
          "output_type": "stream",
          "text": [
            "/usr/local/lib/python3.7/dist-packages/seaborn/_decorators.py:43: FutureWarning: Pass the following variable as a keyword arg: x. From version 0.12, the only valid positional argument will be `data`, and passing other arguments without an explicit keyword will result in an error or misinterpretation.\n",
            "  FutureWarning\n"
          ],
          "name": "stderr"
        },
        {
          "output_type": "display_data",
          "data": {
            "image/png": "[encoded data removed]",
            "text/plain": [
              "<Figure size 432x288 with 1 Axes>"
            ]
          },
          "metadata": {
            "tags": [],
            "needs_background": "light"
          }
        }
      ]
    },
    {
      "cell_type": "code",
      "metadata": {
        "colab": {
          "base_uri": "https://localhost:8080/"
        },
        "id": "Yht3baGwet8a",
        "outputId": "d8e8b4e2-b7a2-4d2d-dbea-b4814db79df0"
      },
      "source": [
        "# dividing the X and the Y from the dataset \n",
        "#X = data.drop(['Class'], axis = 1)\n",
        "X = new_data1[['Time','Amount']]\n",
        "Y = new_data1[\"Class\"] \n",
        "print(X.shape) \n",
        "print(Y.shape) \n",
        "# getting just the values for the sake of processing  \n",
        "# (its a numpy array with no columns) \n",
        "xData = X.values \n",
        "yData = Y.values"
      ],
      "execution_count": null,
      "outputs": [
        {
          "output_type": "stream",
          "text": [
            "(984, 2)\n",
            "(984,)\n"
          ],
          "name": "stdout"
        }
      ]
    },
    {
      "cell_type": "code",
      "metadata": {
        "id": "oUiCrE0FeyLg"
      },
      "source": [
        "# Using Skicit-learn to split data into training and testing sets \n",
        "from sklearn.model_selection import train_test_split \n",
        "# Split the data into training and testing sets \n",
        "xTrain, xTest, yTrain, yTest = train_test_split( \n",
        "        xData, yData, test_size = 0.2, random_state = 40)"
      ],
      "execution_count": null,
      "outputs": []
    },
    {
      "cell_type": "code",
      "metadata": {
        "id": "Jd9TLu-beyYq"
      },
      "source": [
        "from sklearn.ensemble import RandomForestClassifier \n",
        "# random forest model creation \n",
        "rfc = RandomForestClassifier() \n",
        "rfc.fit(xTrain, yTrain) \n",
        "# predictions \n",
        "yPred = rfc.predict(xTest)"
      ],
      "execution_count": null,
      "outputs": []
    },
    {
      "cell_type": "code",
      "metadata": {
        "colab": {
          "base_uri": "https://localhost:8080/"
        },
        "id": "Xba_x8Ebe4fC",
        "outputId": "4fe39e5e-c511-4e83-f0cc-d167f82dab8d"
      },
      "source": [
        "from sklearn.metrics import accuracy_score  \n",
        "acc = accuracy_score(yTest, yPred) \n",
        "print(\"The accuracy of Render forest is {}\".format(acc))"
      ],
      "execution_count": null,
      "outputs": [
        {
          "output_type": "stream",
          "text": [
            "The accuracy of Render forest is 0.7360406091370558\n"
          ],
          "name": "stdout"
        }
      ]
    }
  ]
}